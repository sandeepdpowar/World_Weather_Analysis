{
 "cells": [
  {
   "cell_type": "code",
   "execution_count": 1,
   "id": "5e9f0742",
   "metadata": {},
   "outputs": [],
   "source": [
    "import pandas as pd\n",
    "import matplotlib.pyplot as plt\n",
    "import numpy as np"
   ]
  },
  {
   "cell_type": "code",
   "execution_count": 2,
   "id": "9f4fa91d",
   "metadata": {},
   "outputs": [],
   "source": [
    "lats = [25.12903645, 25.92017388, 26.62509167, -59.98969384, 37.30571269]\n",
    "longs = [-67.59741259, 11.09532135, 74.84233102, -76.89176677, -61.13376282]\n",
    "lats_longs = zip(lats, longs)"
   ]
  },
  {
   "cell_type": "code",
   "execution_count": 3,
   "id": "d2de6991",
   "metadata": {},
   "outputs": [],
   "source": [
    "coordinates = list(lats_longs)"
   ]
  },
  {
   "cell_type": "code",
   "execution_count": 4,
   "id": "df48a1ee",
   "metadata": {},
   "outputs": [
    {
     "name": "stdout",
     "output_type": "stream",
     "text": [
      "25.12903645 -67.59741259\n",
      "25.92017388 11.09532135\n",
      "26.62509167 74.84233102\n",
      "-59.98969384 -76.89176677\n",
      "37.30571269 -61.13376282\n"
     ]
    }
   ],
   "source": [
    "for coordinate in coordinates:\n",
    "    print(coordinate[0], coordinate[1])"
   ]
  },
  {
   "cell_type": "code",
   "execution_count": 5,
   "id": "ff3e7b13",
   "metadata": {},
   "outputs": [],
   "source": [
    "# Use the citipy module to determine city based on latitude and longitude.\n",
    "from citipy import citipy"
   ]
  },
  {
   "cell_type": "code",
   "execution_count": 6,
   "id": "b1683137",
   "metadata": {},
   "outputs": [
    {
     "name": "stdout",
     "output_type": "stream",
     "text": [
      "cockburn town tc\n",
      "gat ly\n",
      "parvatsar in\n",
      "punta arenas cl\n",
      "saint george bm\n"
     ]
    }
   ],
   "source": [
    "for coordinate in coordinates:\n",
    "    print(citipy.nearest_city(coordinate[0], coordinate[1]).city_name,\n",
    "         citipy.nearest_city(coordinate[0], coordinate[1]).country_code)"
   ]
  },
  {
   "cell_type": "code",
   "execution_count": 7,
   "id": "9a9fae3d",
   "metadata": {
    "scrolled": true
   },
   "outputs": [],
   "source": [
    "import requests\n",
    "from config import api_key"
   ]
  },
  {
   "cell_type": "code",
   "execution_count": 8,
   "id": "56e47e9d",
   "metadata": {},
   "outputs": [],
   "source": [
    "# Starting URL for Weather Map API Call.\n",
    "url = \"http://api.openweathermap.org/data/2.5/weather?units=Imperial&APPID=\" + api_key\n"
   ]
  },
  {
   "cell_type": "code",
   "execution_count": 9,
   "id": "a8f4eff3",
   "metadata": {},
   "outputs": [],
   "source": [
    "city_url = url + \"&q=\" + \"Bston\""
   ]
  },
  {
   "cell_type": "code",
   "execution_count": 10,
   "id": "5c6f553c",
   "metadata": {},
   "outputs": [
    {
     "name": "stdout",
     "output_type": "stream",
     "text": [
      "weather not found\n"
     ]
    }
   ],
   "source": [
    "city_weather = requests.get(city_url)\n",
    "if city_weather.status_code == 200:\n",
    "    print(\"Weather found\")\n",
    "    \n",
    "else:\n",
    "    print(\"weather not found\")\n",
    "    "
   ]
  },
  {
   "cell_type": "code",
   "execution_count": 11,
   "id": "151d2270",
   "metadata": {},
   "outputs": [
    {
     "data": {
      "text/plain": [
       "404"
      ]
     },
     "execution_count": 11,
     "metadata": {},
     "output_type": "execute_result"
    }
   ],
   "source": [
    "city_weather.status_code"
   ]
  },
  {
   "cell_type": "code",
   "execution_count": 12,
   "id": "2bb02a28",
   "metadata": {},
   "outputs": [
    {
     "data": {
      "text/plain": [
       "'{\"cod\":\"404\",\"message\":\"city not found\"}'"
      ]
     },
     "execution_count": 12,
     "metadata": {},
     "output_type": "execute_result"
    }
   ],
   "source": [
    "city_weather.text"
   ]
  },
  {
   "cell_type": "code",
   "execution_count": 13,
   "id": "b48f0f19",
   "metadata": {},
   "outputs": [
    {
     "data": {
      "text/plain": [
       "{'cod': '404', 'message': 'city not found'}"
      ]
     },
     "execution_count": 13,
     "metadata": {},
     "output_type": "execute_result"
    }
   ],
   "source": [
    "city_weather.json()"
   ]
  },
  {
   "cell_type": "code",
   "execution_count": 14,
   "id": "11bcc726",
   "metadata": {},
   "outputs": [
    {
     "data": {
      "text/plain": [
       "{'coord': {'lon': -71.0598, 'lat': 42.3584},\n",
       " 'weather': [{'id': 800,\n",
       "   'main': 'Clear',\n",
       "   'description': 'clear sky',\n",
       "   'icon': '01n'}],\n",
       " 'base': 'stations',\n",
       " 'main': {'temp': 72.61,\n",
       "  'feels_like': 72.01,\n",
       "  'temp_min': 66.06,\n",
       "  'temp_max': 75.99,\n",
       "  'pressure': 1001,\n",
       "  'humidity': 52},\n",
       " 'visibility': 10000,\n",
       " 'wind': {'speed': 11.99, 'deg': 0, 'gust': 0},\n",
       " 'clouds': {'all': 2},\n",
       " 'dt': 1655520424,\n",
       " 'sys': {'type': 2,\n",
       "  'id': 2013408,\n",
       "  'country': 'US',\n",
       "  'sunrise': 1655456817,\n",
       "  'sunset': 1655511806},\n",
       " 'timezone': -14400,\n",
       " 'id': 4930956,\n",
       " 'name': 'Boston',\n",
       " 'cod': 200}"
      ]
     },
     "execution_count": 14,
     "metadata": {},
     "output_type": "execute_result"
    }
   ],
   "source": [
    "city_url = url + \"&q=\" + \"Boston\"\n",
    "city_weather = requests.get(city_url)\n",
    "city_weather.json()"
   ]
  },
  {
   "cell_type": "code",
   "execution_count": 15,
   "id": "a0ec1eea",
   "metadata": {},
   "outputs": [],
   "source": [
    "boston_data = city_weather.json()"
   ]
  },
  {
   "cell_type": "code",
   "execution_count": 16,
   "id": "ddb9b707",
   "metadata": {},
   "outputs": [],
   "source": [
    "country = boston_data['sys']['country']"
   ]
  },
  {
   "cell_type": "code",
   "execution_count": 17,
   "id": "071221cf",
   "metadata": {},
   "outputs": [],
   "source": [
    "date = boston_data['dt']"
   ]
  },
  {
   "cell_type": "code",
   "execution_count": 18,
   "id": "52131efd",
   "metadata": {},
   "outputs": [],
   "source": [
    "latitude = boston_data['coord']['lat']"
   ]
  },
  {
   "cell_type": "code",
   "execution_count": 19,
   "id": "0c8de9a7",
   "metadata": {},
   "outputs": [],
   "source": [
    "Max_Tempreture = boston_data['main']['temp_max']"
   ]
  },
  {
   "cell_type": "code",
   "execution_count": 20,
   "id": "38816086",
   "metadata": {},
   "outputs": [
    {
     "name": "stdout",
     "output_type": "stream",
     "text": [
      "US 1655520424 42.3584 75.99\n"
     ]
    }
   ],
   "source": [
    "print(country, date, latitude, Max_Tempreture)"
   ]
  },
  {
   "cell_type": "code",
   "execution_count": 21,
   "id": "d3d1d59b",
   "metadata": {},
   "outputs": [
    {
     "data": {
      "text/plain": [
       "datetime.datetime(2022, 6, 18, 2, 47, 4)"
      ]
     },
     "execution_count": 21,
     "metadata": {},
     "output_type": "execute_result"
    }
   ],
   "source": [
    "from datetime import datetime\n",
    "date=boston_data[\"dt\"]\n",
    "datetime.utcfromtimestamp(date)"
   ]
  },
  {
   "cell_type": "code",
   "execution_count": 22,
   "id": "b910aef6",
   "metadata": {},
   "outputs": [
    {
     "data": {
      "text/plain": [
       "'2022-06-18 02:47:04'"
      ]
     },
     "execution_count": 22,
     "metadata": {},
     "output_type": "execute_result"
    }
   ],
   "source": [
    "datetime.utcfromtimestamp(date).strftime('%Y-%m-%d %H:%M:%S')"
   ]
  },
  {
   "cell_type": "code",
   "execution_count": 24,
   "id": "d431e791",
   "metadata": {},
   "outputs": [],
   "source": [
    "import time"
   ]
  },
  {
   "cell_type": "code",
   "execution_count": 25,
   "id": "f9a1a446",
   "metadata": {},
   "outputs": [
    {
     "data": {
      "text/plain": [
       "'06/17/22'"
      ]
     },
     "execution_count": 25,
     "metadata": {},
     "output_type": "execute_result"
    }
   ],
   "source": [
    "today=time.strftime(\"%x\")\n",
    "today"
   ]
  },
  {
   "cell_type": "code",
   "execution_count": null,
   "id": "674264f0",
   "metadata": {},
   "outputs": [],
   "source": []
  }
 ],
 "metadata": {
  "kernelspec": {
   "display_name": "PythonData",
   "language": "python",
   "name": "pythondata"
  },
  "language_info": {
   "codemirror_mode": {
    "name": "ipython",
    "version": 3
   },
   "file_extension": ".py",
   "mimetype": "text/x-python",
   "name": "python",
   "nbconvert_exporter": "python",
   "pygments_lexer": "ipython3",
   "version": "3.7.13"
  }
 },
 "nbformat": 4,
 "nbformat_minor": 5
}
