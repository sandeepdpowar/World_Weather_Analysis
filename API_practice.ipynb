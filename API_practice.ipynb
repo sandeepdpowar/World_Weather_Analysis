{
 "cells": [
  {
   "cell_type": "code",
   "execution_count": 1,
   "id": "5e9f0742",
   "metadata": {},
   "outputs": [],
   "source": [
    "import pandas as pd\n",
    "import matplotlib.pyplot as plt\n",
    "import numpy as np"
   ]
  },
  {
   "cell_type": "code",
   "execution_count": 2,
   "id": "9f4fa91d",
   "metadata": {},
   "outputs": [],
   "source": [
    "lats = [25.12903645, 25.92017388, 26.62509167, -59.98969384, 37.30571269]\n",
    "longs = [-67.59741259, 11.09532135, 74.84233102, -76.89176677, -61.13376282]\n",
    "lats_longs = zip(lats, longs)"
   ]
  },
  {
   "cell_type": "code",
   "execution_count": 3,
   "id": "d2de6991",
   "metadata": {},
   "outputs": [],
   "source": [
    "coordinates = list(lats_longs)"
   ]
  },
  {
   "cell_type": "code",
   "execution_count": 4,
   "id": "df48a1ee",
   "metadata": {},
   "outputs": [
    {
     "name": "stdout",
     "output_type": "stream",
     "text": [
      "25.12903645 -67.59741259\n",
      "25.92017388 11.09532135\n",
      "26.62509167 74.84233102\n",
      "-59.98969384 -76.89176677\n",
      "37.30571269 -61.13376282\n"
     ]
    }
   ],
   "source": [
    "for coordinate in coordinates:\n",
    "    print(coordinate[0], coordinate[1])"
   ]
  },
  {
   "cell_type": "code",
   "execution_count": 5,
   "id": "ff3e7b13",
   "metadata": {},
   "outputs": [
    {
     "ename": "ImportError",
     "evalue": "cannot import name 'citipy' from 'citipy' (/Users/sandeeppowar/Desktop/Analysis_Projects/World_Weather_Analysis/World_Weather_Analysis/citipy.py)",
     "output_type": "error",
     "traceback": [
      "\u001b[0;31m---------------------------------------------------------------------------\u001b[0m",
      "\u001b[0;31mImportError\u001b[0m                               Traceback (most recent call last)",
      "Input \u001b[0;32mIn [5]\u001b[0m, in \u001b[0;36m<cell line: 2>\u001b[0;34m()\u001b[0m\n\u001b[1;32m      1\u001b[0m \u001b[38;5;66;03m# Use the citipy module to determine city based on latitude and longitude.\u001b[39;00m\n\u001b[0;32m----> 2\u001b[0m \u001b[38;5;28;01mfrom\u001b[39;00m \u001b[38;5;21;01mcitipy\u001b[39;00m \u001b[38;5;28;01mimport\u001b[39;00m citipy\n",
      "\u001b[0;31mImportError\u001b[0m: cannot import name 'citipy' from 'citipy' (/Users/sandeeppowar/Desktop/Analysis_Projects/World_Weather_Analysis/World_Weather_Analysis/citipy.py)"
     ]
    }
   ],
   "source": [
    "# Use the citipy module to determine city based on latitude and longitude.\n",
    "from citipy import citipy"
   ]
  },
  {
   "cell_type": "code",
   "execution_count": null,
   "id": "b1683137",
   "metadata": {},
   "outputs": [],
   "source": [
    "for coordinate in coordinates:\n",
    "    print(citipy.nearest_city(coordinate[0], coordinate[1]).city_name,\n",
    "         citipy.nearest_city(coordinate[0], coordinate[1]).country_code)"
   ]
  },
  {
   "cell_type": "code",
   "execution_count": null,
   "id": "9a9fae3d",
   "metadata": {
    "scrolled": true
   },
   "outputs": [],
   "source": [
    "import requests\n",
    "from config import api_key"
   ]
  },
  {
   "cell_type": "code",
   "execution_count": null,
   "id": "ab5411bd",
   "metadata": {},
   "outputs": [],
   "source": [
    "# Starting URL for Weather Map API Call.\n",
    "url = \"http://api.openweathermap.org/data/2.5/weather?units=Imperial&APPID=\" + api_key\n"
   ]
  },
  {
   "cell_type": "code",
   "execution_count": null,
   "id": "1dcb0390",
   "metadata": {},
   "outputs": [],
   "source": [
    "city_url = url + \"&q=\" + \"Bston\""
   ]
  },
  {
   "cell_type": "code",
   "execution_count": null,
   "id": "703a0a5b",
   "metadata": {},
   "outputs": [],
   "source": [
    "city_weather = requests.get(city_url)\n",
    "if city_weather.status_code == 200:\n",
    "    print(\"Weather found\")\n",
    "    \n",
    "else:\n",
    "    print(\"weather not found\")\n",
    "    "
   ]
  },
  {
   "cell_type": "code",
   "execution_count": null,
   "id": "4790dfd1",
   "metadata": {},
   "outputs": [],
   "source": [
    "city_weather.status_code"
   ]
  },
  {
   "cell_type": "code",
   "execution_count": null,
   "id": "8a7c541f",
   "metadata": {},
   "outputs": [],
   "source": [
    "city_weather.text"
   ]
  },
  {
   "cell_type": "code",
   "execution_count": null,
   "id": "c46b21fb",
   "metadata": {},
   "outputs": [],
   "source": [
    "city_weather.json()"
   ]
  },
  {
   "cell_type": "code",
   "execution_count": null,
   "id": "6362f305",
   "metadata": {},
   "outputs": [],
   "source": [
    "city_url = url + \"&q=\" + \"Boston\"\n",
    "city_weather = requests.get(city_url)\n",
    "city_weather.json()"
   ]
  },
  {
   "cell_type": "code",
   "execution_count": null,
   "id": "ecf7db9a",
   "metadata": {},
   "outputs": [],
   "source": [
    "boston_data = city_weather.json()"
   ]
  },
  {
   "cell_type": "code",
   "execution_count": null,
   "id": "6cbceb6e",
   "metadata": {},
   "outputs": [],
   "source": [
    "country = boston_data['sys']['country']"
   ]
  },
  {
   "cell_type": "code",
   "execution_count": null,
   "id": "8ea99313",
   "metadata": {},
   "outputs": [],
   "source": [
    "date = boston_data['dt']"
   ]
  },
  {
   "cell_type": "code",
   "execution_count": null,
   "id": "b5660e1b",
   "metadata": {},
   "outputs": [],
   "source": [
    "latitude = boston_data['coord']['lat']"
   ]
  },
  {
   "cell_type": "code",
   "execution_count": null,
   "id": "99e6806b",
   "metadata": {},
   "outputs": [],
   "source": [
    "Max_Tempreture = boston_data['main']['temp_max']"
   ]
  },
  {
   "cell_type": "code",
   "execution_count": null,
   "id": "fe9a9a0f",
   "metadata": {},
   "outputs": [],
   "source": [
    "print(country, date, latitude, Max_Tempreture)"
   ]
  },
  {
   "cell_type": "code",
   "execution_count": null,
   "id": "36f2d997",
   "metadata": {},
   "outputs": [],
   "source": [
    "from datetime import datetime\n",
    "date=boston_data[\"dt\"]\n",
    "datetime.utcfromtimestamp(date)"
   ]
  },
  {
   "cell_type": "code",
   "execution_count": null,
   "id": "5a9d6f36",
   "metadata": {},
   "outputs": [],
   "source": [
    "datetime.utcfromtimestamp(date).strftime('%Y-%m-%d %H:%M:%S')"
   ]
  },
  {
   "cell_type": "code",
   "execution_count": null,
   "id": "efc9e809",
   "metadata": {},
   "outputs": [],
   "source": []
  }
 ],
 "metadata": {
  "kernelspec": {
   "display_name": "Python 3 (ipykernel)",
   "language": "python",
   "name": "python3"
  },
  "language_info": {
   "codemirror_mode": {
    "name": "ipython",
    "version": 3
   },
   "file_extension": ".py",
   "mimetype": "text/x-python",
   "name": "python",
   "nbconvert_exporter": "python",
   "pygments_lexer": "ipython3",
   "version": "3.9.12"
  }
 },
 "nbformat": 4,
 "nbformat_minor": 5
}
