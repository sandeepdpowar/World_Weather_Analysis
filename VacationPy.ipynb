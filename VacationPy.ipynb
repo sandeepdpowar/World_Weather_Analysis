{
 "cells": [
  {
   "cell_type": "code",
   "execution_count": 1,
   "id": "097bb7c7",
   "metadata": {},
   "outputs": [],
   "source": [
    "import pandas as pd\n",
    "import gmaps\n",
    "import requests\n",
    "\n",
    "from config import g_key"
   ]
  },
  {
   "cell_type": "code",
   "execution_count": 2,
   "id": "79de16fb",
   "metadata": {},
   "outputs": [
    {
     "data": {
      "text/html": [
       "<div>\n",
       "<style scoped>\n",
       "    .dataframe tbody tr th:only-of-type {\n",
       "        vertical-align: middle;\n",
       "    }\n",
       "\n",
       "    .dataframe tbody tr th {\n",
       "        vertical-align: top;\n",
       "    }\n",
       "\n",
       "    .dataframe thead th {\n",
       "        text-align: right;\n",
       "    }\n",
       "</style>\n",
       "<table border=\"1\" class=\"dataframe\">\n",
       "  <thead>\n",
       "    <tr style=\"text-align: right;\">\n",
       "      <th></th>\n",
       "      <th>Unnamed: 0</th>\n",
       "      <th>City</th>\n",
       "      <th>Country</th>\n",
       "      <th>Date</th>\n",
       "      <th>Lat</th>\n",
       "      <th>Lng</th>\n",
       "      <th>Max Temp</th>\n",
       "      <th>Humidity</th>\n",
       "      <th>Cloudiness</th>\n",
       "      <th>Wind Speed</th>\n",
       "    </tr>\n",
       "  </thead>\n",
       "  <tbody>\n",
       "    <tr>\n",
       "      <th>0</th>\n",
       "      <td>0</td>\n",
       "      <td>Zabol</td>\n",
       "      <td>AF</td>\n",
       "      <td>2022-06-18 05:20:37</td>\n",
       "      <td>32.2500</td>\n",
       "      <td>67.2500</td>\n",
       "      <td>80.53</td>\n",
       "      <td>16</td>\n",
       "      <td>0</td>\n",
       "      <td>15.55</td>\n",
       "    </tr>\n",
       "    <tr>\n",
       "      <th>1</th>\n",
       "      <td>1</td>\n",
       "      <td>Punta Arenas</td>\n",
       "      <td>CL</td>\n",
       "      <td>2022-06-18 05:16:28</td>\n",
       "      <td>-53.1500</td>\n",
       "      <td>-70.9167</td>\n",
       "      <td>30.31</td>\n",
       "      <td>80</td>\n",
       "      <td>75</td>\n",
       "      <td>6.91</td>\n",
       "    </tr>\n",
       "    <tr>\n",
       "      <th>2</th>\n",
       "      <td>2</td>\n",
       "      <td>Zaysan</td>\n",
       "      <td>KZ</td>\n",
       "      <td>2022-06-18 05:20:38</td>\n",
       "      <td>47.4667</td>\n",
       "      <td>84.8667</td>\n",
       "      <td>77.18</td>\n",
       "      <td>28</td>\n",
       "      <td>2</td>\n",
       "      <td>9.44</td>\n",
       "    </tr>\n",
       "    <tr>\n",
       "      <th>3</th>\n",
       "      <td>3</td>\n",
       "      <td>Yellowknife</td>\n",
       "      <td>CA</td>\n",
       "      <td>2022-06-18 05:20:38</td>\n",
       "      <td>62.4560</td>\n",
       "      <td>-114.3525</td>\n",
       "      <td>54.12</td>\n",
       "      <td>66</td>\n",
       "      <td>20</td>\n",
       "      <td>3.44</td>\n",
       "    </tr>\n",
       "    <tr>\n",
       "      <th>4</th>\n",
       "      <td>4</td>\n",
       "      <td>Albany</td>\n",
       "      <td>US</td>\n",
       "      <td>2022-06-18 05:20:38</td>\n",
       "      <td>42.6001</td>\n",
       "      <td>-73.9662</td>\n",
       "      <td>67.23</td>\n",
       "      <td>62</td>\n",
       "      <td>39</td>\n",
       "      <td>13.40</td>\n",
       "    </tr>\n",
       "  </tbody>\n",
       "</table>\n",
       "</div>"
      ],
      "text/plain": [
       "   Unnamed: 0          City Country                 Date      Lat       Lng  \\\n",
       "0           0         Zabol      AF  2022-06-18 05:20:37  32.2500   67.2500   \n",
       "1           1  Punta Arenas      CL  2022-06-18 05:16:28 -53.1500  -70.9167   \n",
       "2           2        Zaysan      KZ  2022-06-18 05:20:38  47.4667   84.8667   \n",
       "3           3   Yellowknife      CA  2022-06-18 05:20:38  62.4560 -114.3525   \n",
       "4           4        Albany      US  2022-06-18 05:20:38  42.6001  -73.9662   \n",
       "\n",
       "   Max Temp  Humidity  Cloudiness  Wind Speed  \n",
       "0     80.53        16           0       15.55  \n",
       "1     30.31        80          75        6.91  \n",
       "2     77.18        28           2        9.44  \n",
       "3     54.12        66          20        3.44  \n",
       "4     67.23        62          39       13.40  "
      ]
     },
     "execution_count": 2,
     "metadata": {},
     "output_type": "execute_result"
    }
   ],
   "source": [
    "# Store the CSV you saved created in part one into a DataFrame.\n",
    "city_data_df = pd.read_csv(\"weather_data/cities.csv\")\n",
    "city_data_df.head()"
   ]
  },
  {
   "cell_type": "code",
   "execution_count": 3,
   "id": "6178c599",
   "metadata": {},
   "outputs": [
    {
     "data": {
      "text/plain": [
       "Unnamed: 0      int64\n",
       "City           object\n",
       "Country        object\n",
       "Date           object\n",
       "Lat           float64\n",
       "Lng           float64\n",
       "Max Temp      float64\n",
       "Humidity        int64\n",
       "Cloudiness      int64\n",
       "Wind Speed    float64\n",
       "dtype: object"
      ]
     },
     "execution_count": 3,
     "metadata": {},
     "output_type": "execute_result"
    }
   ],
   "source": [
    "city_data_df.dtypes"
   ]
  },
  {
   "cell_type": "code",
   "execution_count": 4,
   "id": "24cd3744",
   "metadata": {},
   "outputs": [],
   "source": [
    "# Configure gmaps to use your Google API key.\n",
    "gmaps.configure(api_key=g_key)"
   ]
  },
  {
   "cell_type": "code",
   "execution_count": 5,
   "id": "33bb4713",
   "metadata": {},
   "outputs": [
    {
     "data": {
      "application/vnd.jupyter.widget-view+json": {
       "model_id": "7f75c8f12c034b1682acc8ea44fa846f",
       "version_major": 2,
       "version_minor": 0
      },
      "text/plain": [
       "Figure(layout=FigureLayout(height='420px'))"
      ]
     },
     "metadata": {},
     "output_type": "display_data"
    }
   ],
   "source": [
    "# Heatmap of temperature\n",
    "# Get the latitude and longitude.\n",
    "locations = city_data_df[[\"Lat\", \"Lng\"]]\n",
    "# Get the maximum temperature.\n",
    "max_temp = city_data_df[\"Max Temp\"]\n",
    "# Assign the figure variable.\n",
    "fig = gmaps.figure()\n",
    "# Assign the heatmap variable.\n",
    "heat_layer = gmaps.heatmap_layer(locations, weights=max_temp)\n",
    "# Add the heatmap layer.\n",
    "fig.add_layer(heat_layer)\n",
    "# Call the figure to plot the data.\n",
    "fig"
   ]
  },
  {
   "cell_type": "code",
   "execution_count": 6,
   "id": "b9d71f3c",
   "metadata": {},
   "outputs": [],
   "source": [
    "# Get the maximum temperature.\n",
    "max_temp = city_data_df[\"Max Temp\"]\n",
    "temps = []\n",
    "for temp in max_temp:\n",
    "    temps.append(max(temp, 0))"
   ]
  },
  {
   "cell_type": "code",
   "execution_count": 7,
   "id": "dde14f9b",
   "metadata": {},
   "outputs": [
    {
     "data": {
      "application/vnd.jupyter.widget-view+json": {
       "model_id": "210a1e54e1a14e70b0aca29fd080a7a3",
       "version_major": 2,
       "version_minor": 0
      },
      "text/plain": [
       "Figure(layout=FigureLayout(height='420px'))"
      ]
     },
     "metadata": {},
     "output_type": "display_data"
    }
   ],
   "source": [
    "# Heatmap of temperature\n",
    "# Get the latitude and longitude.\n",
    "locations = city_data_df[[\"Lat\", \"Lng\"]]\n",
    "# Get the maximum temperature.\n",
    "max_temp = city_data_df[\"Max Temp\"]\n",
    "# Assign the figure variable.\n",
    "fig = gmaps.figure()\n",
    "# Assign the heatmap variable.\n",
    "heat_layer = gmaps.heatmap_layer(locations, weights=temps)\n",
    "# Add the heatmap layer.\n",
    "fig.add_layer(heat_layer)\n",
    "# Call the figure to plot the data.\n",
    "fig"
   ]
  },
  {
   "cell_type": "code",
   "execution_count": 8,
   "id": "c07bfa75",
   "metadata": {},
   "outputs": [
    {
     "data": {
      "application/vnd.jupyter.widget-view+json": {
       "model_id": "55d19669ee5343f3b659da7d5444f4e6",
       "version_major": 2,
       "version_minor": 0
      },
      "text/plain": [
       "Figure(layout=FigureLayout(height='420px'))"
      ]
     },
     "metadata": {},
     "output_type": "display_data"
    }
   ],
   "source": [
    "# Heatmap of temperature\n",
    "# Get the latitude and longitude.\n",
    "locations = city_data_df[[\"Lat\", \"Lng\"]]\n",
    "# Get the maximum temperature.\n",
    "max_temp = city_data_df[\"Max Temp\"]\n",
    "# Assign the figure variable.\n",
    "fig = gmaps.figure(center=(30.0, 31.0), zoom_level=1.5)\n",
    "# Assign the heatmap variable.\n",
    "heat_layer = gmaps.heatmap_layer(locations, weights=[max(temp,0) for temp in max_temp])\n",
    "# Add the heatmap layer.\n",
    "fig.add_layer(heat_layer)\n",
    "# Call the figure to plot the data.\n",
    "fig"
   ]
  },
  {
   "cell_type": "code",
   "execution_count": 9,
   "id": "4d116d39",
   "metadata": {},
   "outputs": [
    {
     "data": {
      "application/vnd.jupyter.widget-view+json": {
       "model_id": "cb0f54f6d8b542e6b3ff7368ff46f255",
       "version_major": 2,
       "version_minor": 0
      },
      "text/plain": [
       "Figure(layout=FigureLayout(height='420px'))"
      ]
     },
     "metadata": {},
     "output_type": "display_data"
    }
   ],
   "source": [
    "# Heatmap of temperature\n",
    "# Get the latitude and longitude.\n",
    "locations = city_data_df[[\"Lat\", \"Lng\"]]\n",
    "# Get the maximum temperature.\n",
    "max_temp = city_data_df[\"Max Temp\"]\n",
    "# Assign the figure variable.\n",
    "fig = gmaps.figure(center=(30.0, 31.0), zoom_level=1.5)\n",
    "# Assign the heatmap variable.\n",
    "heat_layer = gmaps.heatmap_layer(locations, weights=[max(temp,0) for temp in max_temp], dissipating=False, max_intensity=300, point_radius=4)\n",
    "# Add the heatmap layer.\n",
    "fig.add_layer(heat_layer)\n",
    "# Call the figure to plot the data.\n",
    "fig"
   ]
  },
  {
   "cell_type": "code",
   "execution_count": 10,
   "id": "d45ba3b8",
   "metadata": {},
   "outputs": [
    {
     "data": {
      "application/vnd.jupyter.widget-view+json": {
       "model_id": "8efc498826604072b155efd1b08aeef3",
       "version_major": 2,
       "version_minor": 0
      },
      "text/plain": [
       "Figure(layout=FigureLayout(height='420px'))"
      ]
     },
     "metadata": {},
     "output_type": "display_data"
    }
   ],
   "source": [
    "# Heatmap of Humidity\n",
    "# Get the latitude and longitude.\n",
    "locations = city_data_df[[\"Lat\", \"Lng\"]]\n",
    "# Get the Humidity.\n",
    "humidity = city_data_df[\"Humidity\"]\n",
    "# Assign the figure variable.\n",
    "fig = gmaps.figure(center=(30.0, 31.0), zoom_level=1.5)\n",
    "# Assign the heatmap variable.\n",
    "heat_layer = gmaps.heatmap_layer(locations, weights=humidity, dissipating=False, max_intensity=300, point_radius=4)\n",
    "# Add the heatmap layer.\n",
    "fig.add_layer(heat_layer)\n",
    "# Call the figure to plot the data.\n",
    "fig"
   ]
  },
  {
   "cell_type": "code",
   "execution_count": 11,
   "id": "c39f1edf",
   "metadata": {},
   "outputs": [
    {
     "data": {
      "application/vnd.jupyter.widget-view+json": {
       "model_id": "6178386a72c846df8d2476f904fee039",
       "version_major": 2,
       "version_minor": 0
      },
      "text/plain": [
       "Figure(layout=FigureLayout(height='420px'))"
      ]
     },
     "metadata": {},
     "output_type": "display_data"
    }
   ],
   "source": [
    "# Heatmap of Cloudiness\n",
    "# Get the latitude and longitude.\n",
    "locations = city_data_df[[\"Lat\", \"Lng\"]]\n",
    "# Get the Cloudiness.\n",
    "Cloudiness = city_data_df[\"Cloudiness\"]\n",
    "# Assign the figure variable.\n",
    "fig = gmaps.figure(center=(30.0, 31.0), zoom_level=1.5)\n",
    "# Assign the heatmap variable.\n",
    "heat_layer = gmaps.heatmap_layer(locations, weights=Cloudiness, dissipating=False, max_intensity=300, point_radius=4)\n",
    "# Add the heatmap layer.\n",
    "fig.add_layer(heat_layer)\n",
    "# Call the figure to plot the data.\n",
    "fig"
   ]
  },
  {
   "cell_type": "code",
   "execution_count": 12,
   "id": "4530ec5f",
   "metadata": {},
   "outputs": [
    {
     "data": {
      "application/vnd.jupyter.widget-view+json": {
       "model_id": "8608f1ea393346f8af5da9f46f1e0f3f",
       "version_major": 2,
       "version_minor": 0
      },
      "text/plain": [
       "Figure(layout=FigureLayout(height='420px'))"
      ]
     },
     "metadata": {},
     "output_type": "display_data"
    }
   ],
   "source": [
    "# Heatmap of Wind Speed\n",
    "# Get the latitude and longitude.\n",
    "locations = city_data_df[[\"Lat\", \"Lng\"]]\n",
    "# Get the Cloudiness.\n",
    "wind_speed = city_data_df[\"Wind Speed\"]\n",
    "# Assign the figure variable.\n",
    "fig = gmaps.figure(center=(30.0, 31.0), zoom_level=1.5)\n",
    "# Assign the heatmap variable.\n",
    "heat_layer = gmaps.heatmap_layer(locations, weights=wind_speed, dissipating=False, max_intensity=300, point_radius=4)\n",
    "# Add the heatmap layer.\n",
    "fig.add_layer(heat_layer)\n",
    "# Call the figure to plot the data.\n",
    "fig"
   ]
  },
  {
   "cell_type": "code",
   "execution_count": 13,
   "id": "ac464186",
   "metadata": {},
   "outputs": [
    {
     "name": "stdout",
     "output_type": "stream",
     "text": [
      "What is the minimum temperature you would like for your trip? 75\n",
      "What is the maximum temperature you would like for your trip? 90\n"
     ]
    }
   ],
   "source": [
    "# Ask the customer to add a minimum and maximum temperature value.\n",
    "min_temp = float(input(\"What is the minimum temperature you would like for your trip? \"))\n",
    "max_temp = float(input(\"What is the maximum temperature you would like for your trip? \"))"
   ]
  },
  {
   "cell_type": "code",
   "execution_count": 14,
   "id": "d7b74077",
   "metadata": {},
   "outputs": [
    {
     "data": {
      "text/html": [
       "<div>\n",
       "<style scoped>\n",
       "    .dataframe tbody tr th:only-of-type {\n",
       "        vertical-align: middle;\n",
       "    }\n",
       "\n",
       "    .dataframe tbody tr th {\n",
       "        vertical-align: top;\n",
       "    }\n",
       "\n",
       "    .dataframe thead th {\n",
       "        text-align: right;\n",
       "    }\n",
       "</style>\n",
       "<table border=\"1\" class=\"dataframe\">\n",
       "  <thead>\n",
       "    <tr style=\"text-align: right;\">\n",
       "      <th></th>\n",
       "      <th>Unnamed: 0</th>\n",
       "      <th>City</th>\n",
       "      <th>Country</th>\n",
       "      <th>Date</th>\n",
       "      <th>Lat</th>\n",
       "      <th>Lng</th>\n",
       "      <th>Max Temp</th>\n",
       "      <th>Humidity</th>\n",
       "      <th>Cloudiness</th>\n",
       "      <th>Wind Speed</th>\n",
       "    </tr>\n",
       "  </thead>\n",
       "  <tbody>\n",
       "    <tr>\n",
       "      <th>0</th>\n",
       "      <td>0</td>\n",
       "      <td>Zabol</td>\n",
       "      <td>AF</td>\n",
       "      <td>2022-06-18 05:20:37</td>\n",
       "      <td>32.2500</td>\n",
       "      <td>67.2500</td>\n",
       "      <td>80.53</td>\n",
       "      <td>16</td>\n",
       "      <td>0</td>\n",
       "      <td>15.55</td>\n",
       "    </tr>\n",
       "    <tr>\n",
       "      <th>2</th>\n",
       "      <td>2</td>\n",
       "      <td>Zaysan</td>\n",
       "      <td>KZ</td>\n",
       "      <td>2022-06-18 05:20:38</td>\n",
       "      <td>47.4667</td>\n",
       "      <td>84.8667</td>\n",
       "      <td>77.18</td>\n",
       "      <td>28</td>\n",
       "      <td>2</td>\n",
       "      <td>9.44</td>\n",
       "    </tr>\n",
       "    <tr>\n",
       "      <th>7</th>\n",
       "      <td>7</td>\n",
       "      <td>Iracoubo</td>\n",
       "      <td>GF</td>\n",
       "      <td>2022-06-18 05:20:39</td>\n",
       "      <td>5.4802</td>\n",
       "      <td>-53.2011</td>\n",
       "      <td>75.92</td>\n",
       "      <td>87</td>\n",
       "      <td>87</td>\n",
       "      <td>5.21</td>\n",
       "    </tr>\n",
       "    <tr>\n",
       "      <th>17</th>\n",
       "      <td>17</td>\n",
       "      <td>Kapaa</td>\n",
       "      <td>US</td>\n",
       "      <td>2022-06-18 05:20:42</td>\n",
       "      <td>22.0752</td>\n",
       "      <td>-159.3190</td>\n",
       "      <td>76.98</td>\n",
       "      <td>81</td>\n",
       "      <td>20</td>\n",
       "      <td>11.50</td>\n",
       "    </tr>\n",
       "    <tr>\n",
       "      <th>21</th>\n",
       "      <td>21</td>\n",
       "      <td>Hambantota</td>\n",
       "      <td>LK</td>\n",
       "      <td>2022-06-18 05:20:43</td>\n",
       "      <td>6.1241</td>\n",
       "      <td>81.1185</td>\n",
       "      <td>79.27</td>\n",
       "      <td>80</td>\n",
       "      <td>100</td>\n",
       "      <td>13.89</td>\n",
       "    </tr>\n",
       "    <tr>\n",
       "      <th>29</th>\n",
       "      <td>29</td>\n",
       "      <td>Mahebourg</td>\n",
       "      <td>MU</td>\n",
       "      <td>2022-06-18 05:20:46</td>\n",
       "      <td>-20.4081</td>\n",
       "      <td>57.7000</td>\n",
       "      <td>76.24</td>\n",
       "      <td>88</td>\n",
       "      <td>20</td>\n",
       "      <td>3.44</td>\n",
       "    </tr>\n",
       "    <tr>\n",
       "      <th>32</th>\n",
       "      <td>32</td>\n",
       "      <td>Bilma</td>\n",
       "      <td>NE</td>\n",
       "      <td>2022-06-18 05:20:47</td>\n",
       "      <td>18.6853</td>\n",
       "      <td>12.9164</td>\n",
       "      <td>86.34</td>\n",
       "      <td>17</td>\n",
       "      <td>1</td>\n",
       "      <td>18.66</td>\n",
       "    </tr>\n",
       "    <tr>\n",
       "      <th>33</th>\n",
       "      <td>33</td>\n",
       "      <td>Bengkulu</td>\n",
       "      <td>ID</td>\n",
       "      <td>2022-06-18 05:20:48</td>\n",
       "      <td>-3.8004</td>\n",
       "      <td>102.2655</td>\n",
       "      <td>83.10</td>\n",
       "      <td>68</td>\n",
       "      <td>100</td>\n",
       "      <td>5.75</td>\n",
       "    </tr>\n",
       "    <tr>\n",
       "      <th>34</th>\n",
       "      <td>34</td>\n",
       "      <td>Hilo</td>\n",
       "      <td>US</td>\n",
       "      <td>2022-06-18 05:20:48</td>\n",
       "      <td>19.7297</td>\n",
       "      <td>-155.0900</td>\n",
       "      <td>77.29</td>\n",
       "      <td>97</td>\n",
       "      <td>100</td>\n",
       "      <td>9.22</td>\n",
       "    </tr>\n",
       "    <tr>\n",
       "      <th>35</th>\n",
       "      <td>35</td>\n",
       "      <td>Atuona</td>\n",
       "      <td>PF</td>\n",
       "      <td>2022-06-18 05:20:48</td>\n",
       "      <td>-9.8000</td>\n",
       "      <td>-139.0333</td>\n",
       "      <td>77.99</td>\n",
       "      <td>71</td>\n",
       "      <td>0</td>\n",
       "      <td>19.98</td>\n",
       "    </tr>\n",
       "  </tbody>\n",
       "</table>\n",
       "</div>"
      ],
      "text/plain": [
       "    Unnamed: 0        City Country                 Date      Lat       Lng  \\\n",
       "0            0       Zabol      AF  2022-06-18 05:20:37  32.2500   67.2500   \n",
       "2            2      Zaysan      KZ  2022-06-18 05:20:38  47.4667   84.8667   \n",
       "7            7    Iracoubo      GF  2022-06-18 05:20:39   5.4802  -53.2011   \n",
       "17          17       Kapaa      US  2022-06-18 05:20:42  22.0752 -159.3190   \n",
       "21          21  Hambantota      LK  2022-06-18 05:20:43   6.1241   81.1185   \n",
       "29          29   Mahebourg      MU  2022-06-18 05:20:46 -20.4081   57.7000   \n",
       "32          32       Bilma      NE  2022-06-18 05:20:47  18.6853   12.9164   \n",
       "33          33    Bengkulu      ID  2022-06-18 05:20:48  -3.8004  102.2655   \n",
       "34          34        Hilo      US  2022-06-18 05:20:48  19.7297 -155.0900   \n",
       "35          35      Atuona      PF  2022-06-18 05:20:48  -9.8000 -139.0333   \n",
       "\n",
       "    Max Temp  Humidity  Cloudiness  Wind Speed  \n",
       "0      80.53        16           0       15.55  \n",
       "2      77.18        28           2        9.44  \n",
       "7      75.92        87          87        5.21  \n",
       "17     76.98        81          20       11.50  \n",
       "21     79.27        80         100       13.89  \n",
       "29     76.24        88          20        3.44  \n",
       "32     86.34        17           1       18.66  \n",
       "33     83.10        68         100        5.75  \n",
       "34     77.29        97         100        9.22  \n",
       "35     77.99        71           0       19.98  "
      ]
     },
     "execution_count": 14,
     "metadata": {},
     "output_type": "execute_result"
    }
   ],
   "source": [
    "# Filter the dataset to find the cities that fit the criteria.\n",
    "preferred_cities_df = city_data_df.loc[(city_data_df[\"Max Temp\"] <= max_temp) & \\\n",
    "                                       (city_data_df[\"Max Temp\"] >= min_temp)]\n",
    "preferred_cities_df.head(10)\n"
   ]
  },
  {
   "cell_type": "code",
   "execution_count": 15,
   "id": "625701b0",
   "metadata": {},
   "outputs": [
    {
     "data": {
      "text/plain": [
       "Unnamed: 0    188\n",
       "City          188\n",
       "Country       188\n",
       "Date          188\n",
       "Lat           188\n",
       "Lng           188\n",
       "Max Temp      188\n",
       "Humidity      188\n",
       "Cloudiness    188\n",
       "Wind Speed    188\n",
       "dtype: int64"
      ]
     },
     "execution_count": 15,
     "metadata": {},
     "output_type": "execute_result"
    }
   ],
   "source": [
    "preferred_cities_df.count()"
   ]
  },
  {
   "cell_type": "code",
   "execution_count": 16,
   "id": "4e8e6f50",
   "metadata": {},
   "outputs": [
    {
     "data": {
      "text/plain": [
       "Unnamed: 0    0\n",
       "City          0\n",
       "Country       0\n",
       "Date          0\n",
       "Lat           0\n",
       "Lng           0\n",
       "Max Temp      0\n",
       "Humidity      0\n",
       "Cloudiness    0\n",
       "Wind Speed    0\n",
       "dtype: int64"
      ]
     },
     "execution_count": 16,
     "metadata": {},
     "output_type": "execute_result"
    }
   ],
   "source": [
    "preferred_cities_df.isnull().sum()"
   ]
  },
  {
   "cell_type": "code",
   "execution_count": 17,
   "id": "a1921ed0",
   "metadata": {},
   "outputs": [
    {
     "data": {
      "text/html": [
       "<div>\n",
       "<style scoped>\n",
       "    .dataframe tbody tr th:only-of-type {\n",
       "        vertical-align: middle;\n",
       "    }\n",
       "\n",
       "    .dataframe tbody tr th {\n",
       "        vertical-align: top;\n",
       "    }\n",
       "\n",
       "    .dataframe thead th {\n",
       "        text-align: right;\n",
       "    }\n",
       "</style>\n",
       "<table border=\"1\" class=\"dataframe\">\n",
       "  <thead>\n",
       "    <tr style=\"text-align: right;\">\n",
       "      <th></th>\n",
       "      <th>City</th>\n",
       "      <th>Country</th>\n",
       "      <th>Max Temp</th>\n",
       "      <th>Lat</th>\n",
       "      <th>Lng</th>\n",
       "      <th>Hotel Name</th>\n",
       "    </tr>\n",
       "  </thead>\n",
       "  <tbody>\n",
       "    <tr>\n",
       "      <th>0</th>\n",
       "      <td>Zabol</td>\n",
       "      <td>AF</td>\n",
       "      <td>80.53</td>\n",
       "      <td>32.2500</td>\n",
       "      <td>67.2500</td>\n",
       "      <td></td>\n",
       "    </tr>\n",
       "    <tr>\n",
       "      <th>2</th>\n",
       "      <td>Zaysan</td>\n",
       "      <td>KZ</td>\n",
       "      <td>77.18</td>\n",
       "      <td>47.4667</td>\n",
       "      <td>84.8667</td>\n",
       "      <td></td>\n",
       "    </tr>\n",
       "    <tr>\n",
       "      <th>7</th>\n",
       "      <td>Iracoubo</td>\n",
       "      <td>GF</td>\n",
       "      <td>75.92</td>\n",
       "      <td>5.4802</td>\n",
       "      <td>-53.2011</td>\n",
       "      <td></td>\n",
       "    </tr>\n",
       "    <tr>\n",
       "      <th>17</th>\n",
       "      <td>Kapaa</td>\n",
       "      <td>US</td>\n",
       "      <td>76.98</td>\n",
       "      <td>22.0752</td>\n",
       "      <td>-159.3190</td>\n",
       "      <td></td>\n",
       "    </tr>\n",
       "    <tr>\n",
       "      <th>21</th>\n",
       "      <td>Hambantota</td>\n",
       "      <td>LK</td>\n",
       "      <td>79.27</td>\n",
       "      <td>6.1241</td>\n",
       "      <td>81.1185</td>\n",
       "      <td></td>\n",
       "    </tr>\n",
       "  </tbody>\n",
       "</table>\n",
       "</div>"
      ],
      "text/plain": [
       "          City Country  Max Temp      Lat       Lng Hotel Name\n",
       "0        Zabol      AF     80.53  32.2500   67.2500           \n",
       "2       Zaysan      KZ     77.18  47.4667   84.8667           \n",
       "7     Iracoubo      GF     75.92   5.4802  -53.2011           \n",
       "17       Kapaa      US     76.98  22.0752 -159.3190           \n",
       "21  Hambantota      LK     79.27   6.1241   81.1185           "
      ]
     },
     "execution_count": 17,
     "metadata": {},
     "output_type": "execute_result"
    }
   ],
   "source": [
    "# Create DataFrame called hotel_df to store hotel names along with city, country, max temp, and coordinates.\n",
    "hotel_df = preferred_cities_df[[\"City\", \"Country\", \"Max Temp\", \"Lat\", \"Lng\"]].copy()\n",
    "hotel_df[\"Hotel Name\"] =\"\"\n",
    "hotel_df.head()"
   ]
  },
  {
   "cell_type": "code",
   "execution_count": 21,
   "id": "742772a3",
   "metadata": {},
   "outputs": [
    {
     "name": "stdout",
     "output_type": "stream",
     "text": [
      "<class 'dict'>\n"
     ]
    }
   ],
   "source": [
    "# Set parameters to search for a hotel.\n",
    "params={\n",
    "    \"radius\":5000,\n",
    "    \"type\":\"lodging\",\n",
    "    \"key\": g_key\n",
    "}\n",
    "    \n",
    "print(type(params))"
   ]
  },
  {
   "cell_type": "code",
   "execution_count": 24,
   "id": "06639763",
   "metadata": {},
   "outputs": [
    {
     "name": "stdout",
     "output_type": "stream",
     "text": [
      "Hotel not found...Skipping\n",
      "Hotel not found...Skipping\n",
      "Hotel not found...Skipping\n",
      "Hotel not found...Skipping\n",
      "Hotel not found...Skipping\n",
      "Hotel not found...Skipping\n",
      "Hotel not found...Skipping\n",
      "Hotel not found...Skipping\n",
      "Hotel not found...Skipping\n",
      "Hotel not found...Skipping\n",
      "Hotel not found...Skipping\n",
      "Hotel not found...Skipping\n",
      "Hotel not found...Skipping\n",
      "Hotel not found...Skipping\n"
     ]
    }
   ],
   "source": [
    "# Iterate through the DataFrame.\n",
    "for index, row in hotel_df.iterrows():\n",
    "    lat = row[\"Lat\"]\n",
    "    lng = row[\"Lng\"]\n",
    "    \n",
    "    # Add the latitude and longitude to location key for the params dictionary.\n",
    "    params[\"location\"] = f\"{lat},{lng}\"\n",
    "    \n",
    "    # Use the search term: \"lodging\" and our latitude and longitude.\n",
    "    base_url = \"https://maps.googleapis.com/maps/api/place/nearbysearch/json\"\n",
    "    \n",
    "    hotels = requests.get(base_url, params=params).json()\n",
    "    \n",
    "    try:\n",
    "        hotel_df.loc[index, \"Hotel Name\"] = hotels[\"results\"][0][\"name\"]\n",
    "    \n",
    "    except(IndexError):\n",
    "        print(\"Hotel not found...Skipping\")"
   ]
  },
  {
   "cell_type": "code",
   "execution_count": 25,
   "id": "337e5a86",
   "metadata": {},
   "outputs": [
    {
     "data": {
      "text/html": [
       "<div>\n",
       "<style scoped>\n",
       "    .dataframe tbody tr th:only-of-type {\n",
       "        vertical-align: middle;\n",
       "    }\n",
       "\n",
       "    .dataframe tbody tr th {\n",
       "        vertical-align: top;\n",
       "    }\n",
       "\n",
       "    .dataframe thead th {\n",
       "        text-align: right;\n",
       "    }\n",
       "</style>\n",
       "<table border=\"1\" class=\"dataframe\">\n",
       "  <thead>\n",
       "    <tr style=\"text-align: right;\">\n",
       "      <th></th>\n",
       "      <th>City</th>\n",
       "      <th>Country</th>\n",
       "      <th>Max Temp</th>\n",
       "      <th>Lat</th>\n",
       "      <th>Lng</th>\n",
       "      <th>Hotel Name</th>\n",
       "    </tr>\n",
       "  </thead>\n",
       "  <tbody>\n",
       "    <tr>\n",
       "      <th>0</th>\n",
       "      <td>Zabol</td>\n",
       "      <td>AF</td>\n",
       "      <td>80.53</td>\n",
       "      <td>32.2500</td>\n",
       "      <td>67.2500</td>\n",
       "      <td></td>\n",
       "    </tr>\n",
       "    <tr>\n",
       "      <th>2</th>\n",
       "      <td>Zaysan</td>\n",
       "      <td>KZ</td>\n",
       "      <td>77.18</td>\n",
       "      <td>47.4667</td>\n",
       "      <td>84.8667</td>\n",
       "      <td>Ерлан үй</td>\n",
       "    </tr>\n",
       "    <tr>\n",
       "      <th>7</th>\n",
       "      <td>Iracoubo</td>\n",
       "      <td>GF</td>\n",
       "      <td>75.92</td>\n",
       "      <td>5.4802</td>\n",
       "      <td>-53.2011</td>\n",
       "      <td>Le Gîte d’Iracoubo</td>\n",
       "    </tr>\n",
       "    <tr>\n",
       "      <th>17</th>\n",
       "      <td>Kapaa</td>\n",
       "      <td>US</td>\n",
       "      <td>76.98</td>\n",
       "      <td>22.0752</td>\n",
       "      <td>-159.3190</td>\n",
       "      <td>Sheraton Kauai Coconut Beach Resort</td>\n",
       "    </tr>\n",
       "    <tr>\n",
       "      <th>21</th>\n",
       "      <td>Hambantota</td>\n",
       "      <td>LK</td>\n",
       "      <td>79.27</td>\n",
       "      <td>6.1241</td>\n",
       "      <td>81.1185</td>\n",
       "      <td>Bungalow 63</td>\n",
       "    </tr>\n",
       "  </tbody>\n",
       "</table>\n",
       "</div>"
      ],
      "text/plain": [
       "          City Country  Max Temp      Lat       Lng  \\\n",
       "0        Zabol      AF     80.53  32.2500   67.2500   \n",
       "2       Zaysan      KZ     77.18  47.4667   84.8667   \n",
       "7     Iracoubo      GF     75.92   5.4802  -53.2011   \n",
       "17       Kapaa      US     76.98  22.0752 -159.3190   \n",
       "21  Hambantota      LK     79.27   6.1241   81.1185   \n",
       "\n",
       "                             Hotel Name  \n",
       "0                                        \n",
       "2                              Ерлан үй  \n",
       "7                    Le Gîte d’Iracoubo  \n",
       "17  Sheraton Kauai Coconut Beach Resort  \n",
       "21                          Bungalow 63  "
      ]
     },
     "execution_count": 25,
     "metadata": {},
     "output_type": "execute_result"
    }
   ],
   "source": [
    "hotel_df.head()"
   ]
  },
  {
   "cell_type": "code",
   "execution_count": 26,
   "id": "f4589617",
   "metadata": {},
   "outputs": [
    {
     "data": {
      "application/vnd.jupyter.widget-view+json": {
       "model_id": "b9103033878a4e9491f1eda4f8864522",
       "version_major": 2,
       "version_minor": 0
      },
      "text/plain": [
       "Figure(layout=FigureLayout(height='420px'))"
      ]
     },
     "metadata": {},
     "output_type": "display_data"
    }
   ],
   "source": [
    "# Add a heatmap of temperature for the vacation spots.\n",
    "locations = hotel_df[[\"Lat\", \"Lng\"]]\n",
    "max_temp = hotel_df[\"Max Temp\"]\n",
    "fig = gmaps.figure(center=(30.0, 31.0), zoom_level=1.5)\n",
    "heat_layer = gmaps.heatmap_layer(locations, weights=max_temp, dissipating=False,\n",
    "             max_intensity=300, point_radius=4)\n",
    "\n",
    "fig.add_layer(heat_layer)\n",
    "# Call the figure to plot the data.\n",
    "fig"
   ]
  },
  {
   "cell_type": "code",
   "execution_count": 34,
   "id": "9811cfa4",
   "metadata": {},
   "outputs": [
    {
     "data": {
      "application/vnd.jupyter.widget-view+json": {
       "model_id": "ecc2048d76894ccc9cb140c02abb5918",
       "version_major": 2,
       "version_minor": 0
      },
      "text/plain": [
       "Figure(layout=FigureLayout(height='420px'))"
      ]
     },
     "metadata": {},
     "output_type": "display_data"
    }
   ],
   "source": [
    "# Add a heatmap of temperature for the vacation spots and marker for each city.\n",
    "locations = hotel_df[[\"Lat\", \"Lng\"]]\n",
    "max_temp = hotel_df[\"Max Temp\"]\n",
    "fig = gmaps.figure(center=(30.0, 31.0), zoom_level=1.5)\n",
    "heat_layer = gmaps.heatmap_layer(locations, weights=max_temp,\n",
    "             dissipating=False, max_intensity=300, point_radius=4)\n",
    "marker_layer = gmaps.marker_layer(locations)\n",
    "fig.add_layer(heat_layer)\n",
    "fig.add_layer(marker_layer)\n",
    "# Call the figure to plot the data.\n",
    "fig"
   ]
  },
  {
   "cell_type": "code",
   "execution_count": 35,
   "id": "ceab432b",
   "metadata": {},
   "outputs": [],
   "source": [
    "info_box_template = \"\"\"\n",
    "<dl>\n",
    "<dt>City</dt><dd>{City}</dd>\n",
    "<dt>Country</dt><dd>{Country}</dd>\n",
    "<dt>Max Temp</dt><dd>{Max Temp} °F</dd>\n",
    "</dl>\n",
    "</dl>\n",
    "\"\"\""
   ]
  },
  {
   "cell_type": "code",
   "execution_count": 36,
   "id": "2898409b",
   "metadata": {},
   "outputs": [],
   "source": [
    "# Store the DataFrame Row.\n",
    "hotel_info = [info_box_template.format(**row) for index, row in hotel_df.iterrows()]"
   ]
  },
  {
   "cell_type": "code",
   "execution_count": 38,
   "id": "dd83c8ae",
   "metadata": {},
   "outputs": [
    {
     "data": {
      "application/vnd.jupyter.widget-view+json": {
       "model_id": "1f8a6377d8af45f595d1b91d86a40ea9",
       "version_major": 2,
       "version_minor": 0
      },
      "text/plain": [
       "Figure(layout=FigureLayout(height='420px'))"
      ]
     },
     "metadata": {},
     "output_type": "display_data"
    }
   ],
   "source": [
    "# Add a heatmap of temperature for the vacation spots and marker for each city.\n",
    "locations = hotel_df[[\"Lat\", \"Lng\"]]\n",
    "max_temp = hotel_df[\"Max Temp\"]\n",
    "fig = gmaps.figure(center=(30.0, 31.0), zoom_level=1.5)\n",
    "heat_layer = gmaps.heatmap_layer(locations, weights=max_temp,\n",
    "             dissipating=False, max_intensity=300, point_radius=4)\n",
    "marker_layer = gmaps.marker_layer(locations, info_box_content=hotel_info)\n",
    "fig.add_layer(heat_layer)\n",
    "fig.add_layer(marker_layer)\n",
    "# Call the figure to plot the data.\n",
    "fig"
   ]
  },
  {
   "cell_type": "code",
   "execution_count": null,
   "id": "d200b6f7",
   "metadata": {},
   "outputs": [],
   "source": []
  }
 ],
 "metadata": {
  "kernelspec": {
   "display_name": "PythonData",
   "language": "python",
   "name": "pythondata"
  },
  "language_info": {
   "codemirror_mode": {
    "name": "ipython",
    "version": 3
   },
   "file_extension": ".py",
   "mimetype": "text/x-python",
   "name": "python",
   "nbconvert_exporter": "python",
   "pygments_lexer": "ipython3",
   "version": "3.7.13"
  }
 },
 "nbformat": 4,
 "nbformat_minor": 5
}
